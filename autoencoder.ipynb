{
 "cells": [
  {
   "cell_type": "markdown",
   "metadata": {},
   "source": [
    "### Importing libraries"
   ]
  },
  {
   "cell_type": "code",
   "execution_count": 14,
   "metadata": {
    "id": "Gn08Se1YJq9k"
   },
   "outputs": [],
   "source": [
    "from keras.layers import Dense,Flatten,Reshape\n",
    "from keras.models import Sequential\n",
    "from keras.datasets import mnist\n",
    "import numpy as np\n",
    "import matplotlib.pyplot as plt"
   ]
  },
  {
   "cell_type": "markdown",
   "metadata": {},
   "source": [
    "### Data loading and preprocessing"
   ]
  },
  {
   "cell_type": "code",
   "execution_count": 43,
   "metadata": {
    "colab": {
     "base_uri": "https://localhost:8080/"
    },
    "id": "MvAIalToMcBC",
    "outputId": "6cb022a8-0d91-4132-f7bb-b1c47a7e15a1"
   },
   "outputs": [],
   "source": [
    "(x_train, y_train), (x_test, y_test) = mnist.load_data()\n",
    "x_train = x_train.reshape([-1,28,28,1]).astype('float32') / 255\n",
    "x_test = x_test.reshape([-1,28,28,1]).astype('float32') / 255"
   ]
  },
  {
   "cell_type": "markdown",
   "metadata": {},
   "source": [
    "### Autoencoder Model"
   ]
  },
  {
   "cell_type": "code",
   "execution_count": 46,
   "metadata": {},
   "outputs": [],
   "source": [
    "encoding_dim = 15\n",
    "encoder = Sequential([\n",
    "    Flatten(input_shape=(28,28,1)),\n",
    "    Dense(encoding_dim,activation='relu')\n",
    "])\n",
    "decoder = Sequential([\n",
    "    Dense(28*28,activation='sigmoid',input_shape = (encoding_dim,)),\n",
    "    Reshape((28,28,1))\n",
    "])\n",
    "autoencoder = Sequential([\n",
    "    encoder,\n",
    "    decoder\n",
    "])"
   ]
  },
  {
   "cell_type": "markdown",
   "metadata": {
    "id": "ZN6uo6WHMZqy"
   },
   "source": [
    "### Model compilation and training"
   ]
  },
  {
   "cell_type": "code",
   "execution_count": 19,
   "metadata": {
    "colab": {
     "base_uri": "https://localhost:8080/"
    },
    "id": "59733wiTMjHK",
    "outputId": "af64432b-da9a-4632-b33d-25887df4463d"
   },
   "outputs": [
    {
     "name": "stdout",
     "output_type": "stream",
     "text": [
      "Epoch 1/10\n",
      "235/235 [==============================] - 1s 4ms/step - loss: 0.0833 - accuracy: 0.7802 - val_loss: 0.0528 - val_accuracy: 0.7979\n",
      "Epoch 2/10\n",
      "235/235 [==============================] - 1s 3ms/step - loss: 0.0444 - accuracy: 0.7994 - val_loss: 0.0389 - val_accuracy: 0.8009\n",
      "Epoch 3/10\n",
      "235/235 [==============================] - 1s 3ms/step - loss: 0.0362 - accuracy: 0.8028 - val_loss: 0.0332 - val_accuracy: 0.8036\n",
      "Epoch 4/10\n",
      "235/235 [==============================] - 1s 3ms/step - loss: 0.0319 - accuracy: 0.8049 - val_loss: 0.0300 - val_accuracy: 0.8055\n",
      "Epoch 5/10\n",
      "235/235 [==============================] - 1s 3ms/step - loss: 0.0293 - accuracy: 0.8061 - val_loss: 0.0281 - val_accuracy: 0.8061\n",
      "Epoch 6/10\n",
      "235/235 [==============================] - 1s 3ms/step - loss: 0.0278 - accuracy: 0.8068 - val_loss: 0.0270 - val_accuracy: 0.8066\n",
      "Epoch 7/10\n",
      "235/235 [==============================] - 1s 3ms/step - loss: 0.0269 - accuracy: 0.8073 - val_loss: 0.0262 - val_accuracy: 0.8068\n",
      "Epoch 8/10\n",
      "235/235 [==============================] - 1s 3ms/step - loss: 0.0263 - accuracy: 0.8076 - val_loss: 0.0256 - val_accuracy: 0.8070\n",
      "Epoch 9/10\n",
      "235/235 [==============================] - 1s 3ms/step - loss: 0.0257 - accuracy: 0.8079 - val_loss: 0.0252 - val_accuracy: 0.8075\n",
      "Epoch 10/10\n",
      "235/235 [==============================] - 1s 3ms/step - loss: 0.0252 - accuracy: 0.8082 - val_loss: 0.0247 - val_accuracy: 0.8077\n"
     ]
    },
    {
     "data": {
      "text/plain": [
       "<keras.src.callbacks.History at 0x1f40d2bcf90>"
      ]
     },
     "execution_count": 19,
     "metadata": {},
     "output_type": "execute_result"
    }
   ],
   "source": [
    "autoencoder.compile(optimizer='adam', loss='mean_squared_error',metrics=['accuracy'])\n",
    "autoencoder.fit(x_train, x_train,epochs=10,batch_size=256,validation_data=(x_test, x_test))"
   ]
  },
  {
   "cell_type": "markdown",
   "metadata": {},
   "source": [
    "### Displaying original and reconstructed images"
   ]
  },
  {
   "cell_type": "code",
   "execution_count": 44,
   "metadata": {},
   "outputs": [
    {
     "name": "stdout",
     "output_type": "stream",
     "text": [
      "313/313 [==============================] - 0s 1ms/step\n",
      "313/313 [==============================] - 1s 2ms/step\n"
     ]
    },
    {
     "data": {
      "image/png": "[encoded data removed]",
      "text/plain": [
       "<Figure size 1000x400 with 15 Axes>"
      ]
     },
     "metadata": {},
     "output_type": "display_data"
    }
   ],
   "source": [
    "import matplotlib.pyplot as plt\n",
    "import numpy as np\n",
    "\n",
    "# Assuming x_test, encoded_img, and decoded_img are available\n",
    "encoded_img = encoder.predict(x_test)\n",
    "decoded_img = decoder.predict(encoded_img)\n",
    "plt.figure(figsize=(10, 4))\n",
    "n = 5\n",
    "for i in range(n):\n",
    "    # Original Images\n",
    "    plt.subplot(3, n, i + 1)\n",
    "    plt.imshow(x_test[i].reshape(28, 28))\n",
    "    plt.axis('off')\n",
    "    \n",
    "    plt.subplot(3, n, i + 1 + n)\n",
    "    plt.imshow(encoded_img[i].reshape(encoding_dim,1))\n",
    "    plt.axis('off')\n",
    "    \n",
    "    plt.subplot(3, n, i + 1 + 2 * n)\n",
    "    plt.imshow(decoded_img[i].reshape(28, 28))\n",
    "    plt.axis('off')\n",
    "\n",
    "plt.tight_layout()\n",
    "plt.show()\n"
   ]
  },
  {
   "cell_type": "code",
   "execution_count": null,
   "metadata": {},
   "outputs": [],
   "source": []
  }
 ],
 "metadata": {
  "colab": {
   "provenance": []
  },
  "kernelspec": {
   "display_name": "Python 3 (ipykernel)",
   "language": "python",
   "name": "python3"
  },
  "language_info": {
   "codemirror_mode": {
    "name": "ipython",
    "version": 3
   },
   "file_extension": ".py",
   "mimetype": "text/x-python",
   "name": "python",
   "nbconvert_exporter": "python",
   "pygments_lexer": "ipython3",
   "version": "3.11.5"
  }
 },
 "nbformat": 4,
 "nbformat_minor": 1
}
