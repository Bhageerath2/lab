{
 "cells": [
  {
   "cell_type": "markdown",
   "id": "181f2934",
   "metadata": {},
   "source": [
    "## Importing Libraries"
   ]
  },
  {
   "cell_type": "code",
   "execution_count": 1,
   "id": "242be958",
   "metadata": {},
   "outputs": [],
   "source": [
    "import numpy as np\n",
    "import tensorflow as tf\n",
    "from tensorflow.keras.models import Sequential\n",
    "from tensorflow.keras.layers import Dense, Dropout, Flatten,Conv2D,MaxPool2D\n",
    "from tensorflow.keras.optimizers import Adam"
   ]
  },
  {
   "cell_type": "markdown",
   "id": "117fde5a",
   "metadata": {},
   "source": [
    "## Preprocessing and Loading images "
   ]
  },
  {
   "cell_type": "code",
   "execution_count": 2,
   "id": "78776e67",
   "metadata": {},
   "outputs": [],
   "source": [
    "image_size = 28\n",
    "batch_size = 32\n",
    "train = tf.keras.preprocessing.image.ImageDataGenerator(rescale=1./255,shear_range=0.2,\n",
    "                                                        zoom_range=0.2,horizontal_flip=True)\n",
    "test = tf.keras.preprocessing.image.ImageDataGenerator(rescale=1./255)"
   ]
  },
  {
   "cell_type": "code",
   "execution_count": 22,
   "id": "d0271bca",
   "metadata": {},
   "outputs": [
    {
     "name": "stdout",
     "output_type": "stream",
     "text": [
      "Found 1000 images belonging to 10 classes.\n",
      "Found 100 images belonging to 10 classes.\n"
     ]
    }
   ],
   "source": [
    "train_set = train.flow_from_directory(r'./dataset_mnist/train/',\n",
    "                                      target_size=(image_size,image_size),\n",
    "                                      batch_size=batch_size,\n",
    "                                      class_mode='categorical'\n",
    "                                     )\n",
    "test_set = test.flow_from_directory(r'./dataset_mnist/test',\n",
    "                                      target_size=(image_size,image_size),\n",
    "                                      batch_size=batch_size,\n",
    "                                      class_mode='categorical'\n",
    "                                     )"
   ]
  },
  {
   "cell_type": "markdown",
   "id": "4bc38283",
   "metadata": {},
   "source": [
    "## Buidling CNN model"
   ]
  },
  {
   "cell_type": "code",
   "execution_count": 23,
   "id": "53a92f2f",
   "metadata": {},
   "outputs": [],
   "source": [
    "model = tf.keras.models.Sequential([\n",
    "    Conv2D(64, (3,3), activation='relu', input_shape = (image_size,image_size,3)),\n",
    "    MaxPool2D(2,2),\n",
    "    \n",
    "    Conv2D(128,(3,3),activation='relu'),\n",
    "    MaxPool2D(2,2),\n",
    "    \n",
    "    Flatten(),\n",
    "    Dense(128,activation='relu'),\n",
    "    Dense(10,activation='softmax')\n",
    "])"
   ]
  },
  {
   "cell_type": "code",
   "execution_count": 24,
   "id": "6738d79f",
   "metadata": {},
   "outputs": [
    {
     "name": "stdout",
     "output_type": "stream",
     "text": [
      "Model: \"sequential_2\"\n",
      "_________________________________________________________________\n",
      " Layer (type)                Output Shape              Param #   \n",
      "=================================================================\n",
      " conv2d_4 (Conv2D)           (None, 26, 26, 64)        1792      \n",
      "                                                                 \n",
      " max_pooling2d_4 (MaxPoolin  (None, 13, 13, 64)        0         \n",
      " g2D)                                                            \n",
      "                                                                 \n",
      " conv2d_5 (Conv2D)           (None, 11, 11, 128)       73856     \n",
      "                                                                 \n",
      " max_pooling2d_5 (MaxPoolin  (None, 5, 5, 128)         0         \n",
      " g2D)                                                            \n",
      "                                                                 \n",
      " flatten_2 (Flatten)         (None, 3200)              0         \n",
      "                                                                 \n",
      " dense_4 (Dense)             (None, 128)               409728    \n",
      "                                                                 \n",
      " dense_5 (Dense)             (None, 10)                1290      \n",
      "                                                                 \n",
      "=================================================================\n",
      "Total params: 486666 (1.86 MB)\n",
      "Trainable params: 486666 (1.86 MB)\n",
      "Non-trainable params: 0 (0.00 Byte)\n",
      "_________________________________________________________________\n"
     ]
    }
   ],
   "source": [
    "model.summary()"
   ]
  },
  {
   "cell_type": "markdown",
   "id": "39f3b2b1",
   "metadata": {},
   "source": [
    "## Model compilation"
   ]
  },
  {
   "cell_type": "code",
   "execution_count": 25,
   "id": "4d975214",
   "metadata": {},
   "outputs": [],
   "source": [
    "model.compile(loss='categorical_crossentropy', optimizer = 'Adam',metrics=['accuracy'])"
   ]
  },
  {
   "cell_type": "markdown",
   "id": "54e30870",
   "metadata": {},
   "source": [
    "## Fitting the model"
   ]
  },
  {
   "cell_type": "code",
   "execution_count": 26,
   "id": "ae979c03",
   "metadata": {
    "scrolled": true
   },
   "outputs": [
    {
     "name": "stdout",
     "output_type": "stream",
     "text": [
      "Epoch 1/50\n",
      "32/32 [==============================] - 2s 36ms/step - loss: 1.7551 - accuracy: 0.4310 - val_loss: 0.9452 - val_accuracy: 0.7300\n",
      "Epoch 2/50\n",
      "32/32 [==============================] - 1s 32ms/step - loss: 0.8528 - accuracy: 0.7430 - val_loss: 0.5262 - val_accuracy: 0.8400\n",
      "Epoch 3/50\n",
      "32/32 [==============================] - 1s 30ms/step - loss: 0.5975 - accuracy: 0.8160 - val_loss: 0.3791 - val_accuracy: 0.8600\n",
      "Epoch 4/50\n",
      "32/32 [==============================] - 1s 30ms/step - loss: 0.4276 - accuracy: 0.8540 - val_loss: 0.3987 - val_accuracy: 0.8800\n",
      "Epoch 5/50\n",
      "32/32 [==============================] - 1s 30ms/step - loss: 0.3765 - accuracy: 0.8770 - val_loss: 0.4040 - val_accuracy: 0.8200\n",
      "Epoch 6/50\n",
      "32/32 [==============================] - 1s 29ms/step - loss: 0.3304 - accuracy: 0.8910 - val_loss: 0.3027 - val_accuracy: 0.8800\n",
      "Epoch 7/50\n",
      "32/32 [==============================] - 1s 30ms/step - loss: 0.2963 - accuracy: 0.9020 - val_loss: 0.3118 - val_accuracy: 0.9000\n",
      "Epoch 8/50\n",
      "32/32 [==============================] - 1s 31ms/step - loss: 0.2576 - accuracy: 0.9120 - val_loss: 0.2183 - val_accuracy: 0.9300\n",
      "Epoch 9/50\n",
      "32/32 [==============================] - 1s 30ms/step - loss: 0.2156 - accuracy: 0.9310 - val_loss: 0.2125 - val_accuracy: 0.9200\n",
      "Epoch 10/50\n",
      "32/32 [==============================] - 1s 30ms/step - loss: 0.2044 - accuracy: 0.9220 - val_loss: 0.1462 - val_accuracy: 0.9500\n",
      "Epoch 11/50\n",
      "32/32 [==============================] - 1s 30ms/step - loss: 0.1869 - accuracy: 0.9400 - val_loss: 0.1693 - val_accuracy: 0.9400\n",
      "Epoch 12/50\n",
      "32/32 [==============================] - 1s 30ms/step - loss: 0.1182 - accuracy: 0.9590 - val_loss: 0.2293 - val_accuracy: 0.9300\n",
      "Epoch 13/50\n",
      "32/32 [==============================] - 1s 31ms/step - loss: 0.1545 - accuracy: 0.9480 - val_loss: 0.1714 - val_accuracy: 0.9300\n",
      "Epoch 14/50\n",
      "32/32 [==============================] - 1s 32ms/step - loss: 0.1180 - accuracy: 0.9640 - val_loss: 0.1415 - val_accuracy: 0.9400\n",
      "Epoch 15/50\n",
      "32/32 [==============================] - 1s 31ms/step - loss: 0.1193 - accuracy: 0.9620 - val_loss: 0.1513 - val_accuracy: 0.9600\n",
      "Epoch 16/50\n",
      "32/32 [==============================] - 1s 32ms/step - loss: 0.0865 - accuracy: 0.9720 - val_loss: 0.2178 - val_accuracy: 0.9400\n",
      "Epoch 17/50\n",
      "32/32 [==============================] - 1s 32ms/step - loss: 0.0676 - accuracy: 0.9750 - val_loss: 0.1924 - val_accuracy: 0.9400\n",
      "Epoch 18/50\n",
      "32/32 [==============================] - 1s 31ms/step - loss: 0.0730 - accuracy: 0.9730 - val_loss: 0.2585 - val_accuracy: 0.9500\n",
      "Epoch 19/50\n",
      "32/32 [==============================] - 1s 31ms/step - loss: 0.0861 - accuracy: 0.9680 - val_loss: 0.2541 - val_accuracy: 0.9200\n",
      "Epoch 20/50\n",
      "32/32 [==============================] - 1s 32ms/step - loss: 0.0646 - accuracy: 0.9780 - val_loss: 0.2514 - val_accuracy: 0.9300\n",
      "Epoch 21/50\n",
      "32/32 [==============================] - 1s 31ms/step - loss: 0.0677 - accuracy: 0.9800 - val_loss: 0.2849 - val_accuracy: 0.9300\n",
      "Epoch 22/50\n",
      "32/32 [==============================] - 1s 32ms/step - loss: 0.0704 - accuracy: 0.9720 - val_loss: 0.2734 - val_accuracy: 0.9400\n",
      "Epoch 23/50\n",
      "32/32 [==============================] - 1s 32ms/step - loss: 0.0778 - accuracy: 0.9720 - val_loss: 0.2907 - val_accuracy: 0.9200\n",
      "Epoch 24/50\n",
      "32/32 [==============================] - 1s 32ms/step - loss: 0.0552 - accuracy: 0.9820 - val_loss: 0.3014 - val_accuracy: 0.9300\n",
      "Epoch 25/50\n",
      "32/32 [==============================] - 1s 31ms/step - loss: 0.0534 - accuracy: 0.9800 - val_loss: 0.3005 - val_accuracy: 0.9500\n",
      "Epoch 26/50\n",
      "32/32 [==============================] - 1s 31ms/step - loss: 0.0519 - accuracy: 0.9860 - val_loss: 0.1947 - val_accuracy: 0.9600\n",
      "Epoch 27/50\n",
      "32/32 [==============================] - 1s 30ms/step - loss: 0.0317 - accuracy: 0.9940 - val_loss: 0.2720 - val_accuracy: 0.9500\n",
      "Epoch 28/50\n",
      "32/32 [==============================] - 1s 31ms/step - loss: 0.0287 - accuracy: 0.9920 - val_loss: 0.3227 - val_accuracy: 0.9500\n",
      "Epoch 29/50\n",
      "32/32 [==============================] - 1s 31ms/step - loss: 0.0551 - accuracy: 0.9810 - val_loss: 0.3067 - val_accuracy: 0.9200\n",
      "Epoch 30/50\n",
      "32/32 [==============================] - 1s 32ms/step - loss: 0.0896 - accuracy: 0.9730 - val_loss: 0.1585 - val_accuracy: 0.9700\n",
      "Epoch 31/50\n",
      "32/32 [==============================] - 1s 31ms/step - loss: 0.0301 - accuracy: 0.9890 - val_loss: 0.1624 - val_accuracy: 0.9600\n",
      "Epoch 32/50\n",
      "32/32 [==============================] - 1s 31ms/step - loss: 0.0203 - accuracy: 0.9970 - val_loss: 0.1895 - val_accuracy: 0.9700\n",
      "Epoch 33/50\n",
      "32/32 [==============================] - 1s 31ms/step - loss: 0.0188 - accuracy: 0.9950 - val_loss: 0.2155 - val_accuracy: 0.9600\n",
      "Epoch 34/50\n",
      "32/32 [==============================] - 1s 30ms/step - loss: 0.0209 - accuracy: 0.9950 - val_loss: 0.1604 - val_accuracy: 0.9600\n",
      "Epoch 35/50\n",
      "32/32 [==============================] - 1s 30ms/step - loss: 0.0287 - accuracy: 0.9910 - val_loss: 0.1843 - val_accuracy: 0.9500\n",
      "Epoch 36/50\n",
      "32/32 [==============================] - 1s 31ms/step - loss: 0.0353 - accuracy: 0.9860 - val_loss: 0.3272 - val_accuracy: 0.9400\n",
      "Epoch 37/50\n",
      "32/32 [==============================] - 1s 30ms/step - loss: 0.0387 - accuracy: 0.9900 - val_loss: 0.1595 - val_accuracy: 0.9500\n",
      "Epoch 38/50\n",
      "32/32 [==============================] - 1s 31ms/step - loss: 0.0319 - accuracy: 0.9870 - val_loss: 0.2141 - val_accuracy: 0.9700\n",
      "Epoch 39/50\n",
      "32/32 [==============================] - 1s 30ms/step - loss: 0.0177 - accuracy: 0.9930 - val_loss: 0.1981 - val_accuracy: 0.9500\n",
      "Epoch 40/50\n",
      "32/32 [==============================] - 1s 31ms/step - loss: 0.0254 - accuracy: 0.9920 - val_loss: 0.1899 - val_accuracy: 0.9600\n",
      "Epoch 41/50\n",
      "32/32 [==============================] - 1s 30ms/step - loss: 0.0205 - accuracy: 0.9940 - val_loss: 0.3044 - val_accuracy: 0.9500\n",
      "Epoch 42/50\n",
      "32/32 [==============================] - 1s 30ms/step - loss: 0.0468 - accuracy: 0.9840 - val_loss: 0.2154 - val_accuracy: 0.9500\n",
      "Epoch 43/50\n",
      "32/32 [==============================] - 1s 30ms/step - loss: 0.0416 - accuracy: 0.9840 - val_loss: 0.1704 - val_accuracy: 0.9500\n",
      "Epoch 44/50\n",
      "32/32 [==============================] - 1s 30ms/step - loss: 0.0137 - accuracy: 0.9970 - val_loss: 0.2177 - val_accuracy: 0.9200\n",
      "Epoch 45/50\n",
      "32/32 [==============================] - 1s 30ms/step - loss: 0.0217 - accuracy: 0.9930 - val_loss: 0.1593 - val_accuracy: 0.9500\n",
      "Epoch 46/50\n",
      "32/32 [==============================] - 1s 31ms/step - loss: 0.0390 - accuracy: 0.9890 - val_loss: 0.2352 - val_accuracy: 0.9600\n",
      "Epoch 47/50\n",
      "32/32 [==============================] - 1s 31ms/step - loss: 0.0385 - accuracy: 0.9870 - val_loss: 0.3048 - val_accuracy: 0.9400\n",
      "Epoch 48/50\n",
      "32/32 [==============================] - 1s 31ms/step - loss: 0.0221 - accuracy: 0.9940 - val_loss: 0.3101 - val_accuracy: 0.9500\n",
      "Epoch 49/50\n",
      "32/32 [==============================] - 1s 30ms/step - loss: 0.0217 - accuracy: 0.9950 - val_loss: 0.2579 - val_accuracy: 0.9500\n",
      "Epoch 50/50\n",
      "32/32 [==============================] - 1s 31ms/step - loss: 0.0379 - accuracy: 0.9880 - val_loss: 0.4816 - val_accuracy: 0.9000\n"
     ]
    }
   ],
   "source": [
    "history = model.fit(train_set,epochs=50,validation_data=test_set)"
   ]
  },
  {
   "cell_type": "markdown",
   "id": "74dc17f8",
   "metadata": {},
   "source": [
    "## Classifying single image"
   ]
  },
  {
   "cell_type": "code",
   "execution_count": 27,
   "id": "0aa9c32e",
   "metadata": {},
   "outputs": [
    {
     "name": "stdout",
     "output_type": "stream",
     "text": [
      "{'0': 0, '1': 1, '2': 2, '3': 3, '4': 4, '5': 5, '6': 6, '7': 7, '8': 8, '9': 9}\n",
      "1/1 [==============================] - 0s 56ms/step\n",
      "prediction : 2\n"
     ]
    }
   ],
   "source": [
    "test_image = tf.keras.preprocessing.image.load_img('./dataset_mnist/test/2/8031.jpg',target_size=(28,28))\n",
    "test_image = tf.keras.preprocessing.image.img_to_array(test_image)\n",
    "test_image = np.expand_dims(test_image, axis=0)\n",
    "print(train_set.class_indices)\n",
    "prediction = model.predict(test_image)\n",
    "print(\"prediction : \"+str(np.argmax(prediction)))"
   ]
  },
  {
   "cell_type": "code",
   "execution_count": null,
   "id": "9f39b000",
   "metadata": {},
   "outputs": [],
   "source": []
  }
 ],
 "metadata": {
  "kernelspec": {
   "display_name": "Python 3 (ipykernel)",
   "language": "python",
   "name": "python3"
  },
  "language_info": {
   "codemirror_mode": {
    "name": "ipython",
    "version": 3
   },
   "file_extension": ".py",
   "mimetype": "text/x-python",
   "name": "python",
   "nbconvert_exporter": "python",
   "pygments_lexer": "ipython3",
   "version": "3.11.5"
  }
 },
 "nbformat": 4,
 "nbformat_minor": 5
}
